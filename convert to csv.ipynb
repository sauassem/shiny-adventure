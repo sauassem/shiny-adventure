{
 "cells": [
  {
   "cell_type": "code",
   "execution_count": 1,
   "id": "52a1730f",
   "metadata": {},
   "outputs": [
    {
     "name": "stderr",
     "output_type": "stream",
     "text": [
      "/var/folders/9v/4md4jdxd2qbcwyw49gqzjnc00000gn/T/ipykernel_34503/407102229.py:17: DeprecationWarning: Call to deprecated class vtkDataObjectToTable. (Use vtkAttributeDataToTableFilter instead of vtkDataObjectToTable.) -- Deprecated since version 9.3.0.\n",
      "  table = vtk.vtkDataObjectToTable()\n"
     ]
    },
    {
     "data": {
      "text/plain": [
       "1"
      ]
     },
     "execution_count": 1,
     "metadata": {},
     "output_type": "execute_result"
    }
   ],
   "source": [
    "#To convert vtk document into csv\n",
    "\n",
    "import vtk\n",
    "import csv\n",
    "\n",
    "#Change the name of the fileIn\n",
    "fileIn  = 'Unmixed_40rpm_10s.vtk'\n",
    "fileOut  = 'DOCK1.csv'\n",
    "\n",
    "reader = vtk.vtkGenericDataObjectReader()\n",
    "reader.SetFileName(fileIn)\n",
    "reader.Update()\n",
    "\n",
    "point_obj = reader.GetOutput()\n",
    "points = point_obj.GetPoints()\n",
    "\n",
    "table = vtk.vtkDataObjectToTable()\n",
    "table.SetInputData(point_obj)\n",
    "table.Update()\n",
    "table.GetOutput().AddColumn(points.GetData())\n",
    "table.Update()\n",
    "\n",
    "writer = vtk.vtkDelimitedTextWriter()\n",
    "writer.SetInputConnection(table.GetOutputPort())\n",
    "writer.SetFileName(fileOut)\n",
    "writer.Update()\n",
    "writer.Write()"
   ]
  },
  {
   "cell_type": "code",
   "execution_count": 2,
   "id": "dc765370",
   "metadata": {},
   "outputs": [],
   "source": [
    "#To remove unnecessary column\n",
    "import pandas as pd\n",
    "df = pd.read_csv('DOCK1.csv', delimiter=',')\n",
    "\n",
    "columns_to_delete = ['id']  # Add names of the columns to delete\n",
    "df = df.drop(columns=columns_to_delete)\n",
    "df.to_csv('DOCK1.csv', index=False)"
   ]
  },
  {
   "cell_type": "code",
   "execution_count": null,
   "id": "9f7d03dc",
   "metadata": {},
   "outputs": [],
   "source": []
  },
  {
   "cell_type": "code",
   "execution_count": null,
   "id": "47b7e0fd",
   "metadata": {},
   "outputs": [],
   "source": []
  }
 ],
 "metadata": {
  "kernelspec": {
   "display_name": "Python 3 (ipykernel)",
   "language": "python",
   "name": "python3"
  },
  "language_info": {
   "codemirror_mode": {
    "name": "ipython",
    "version": 3
   },
   "file_extension": ".py",
   "mimetype": "text/x-python",
   "name": "python",
   "nbconvert_exporter": "python",
   "pygments_lexer": "ipython3",
   "version": "3.11.5"
  }
 },
 "nbformat": 4,
 "nbformat_minor": 5
}
